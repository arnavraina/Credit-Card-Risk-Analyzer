{
 "cells": [
  {
   "cell_type": "code",
   "execution_count": 7,
   "metadata": {},
   "outputs": [
    {
     "name": "stdout",
     "output_type": "stream",
     "text": [
      "(50636, 13)\n",
      "<bound method NDFrame.describe of        age  gender       education    occupation organization_type  \\\n",
      "0       19    Male        Graduate  Professional              None   \n",
      "1       18    Male  Under Graduate  Professional              None   \n",
      "2       29    Male  Under Graduate      Salaried              None   \n",
      "3       18    Male        Graduate       Student              None   \n",
      "4       26    Male   Post Graduate      Salaried              None   \n",
      "...    ...     ...             ...           ...               ...   \n",
      "50631   31  Female  Under Graduate  Professional              None   \n",
      "50632   29  Female           Other      Business              None   \n",
      "50633   25    Male   Post Graduate      Business              None   \n",
      "50634   29    Male        Graduate      Salaried              None   \n",
      "50635   25    Male        Graduate      Business              None   \n",
      "\n",
      "         seniority  annual_income  disposable_income house_type vehicle_type  \\\n",
      "0             None         186319              21625     Family         None   \n",
      "1             None         277022              20442     Rented         None   \n",
      "2            Entry         348676              24404     Rented         None   \n",
      "3             None         165041               2533     Rented         None   \n",
      "4      Mid-level 1         348745              19321     Rented         None   \n",
      "...            ...            ...                ...        ...          ...   \n",
      "50631         None         674450              21695     Rented  Two Wheeler   \n",
      "50632         None          78661               3617     Rented  Two Wheeler   \n",
      "50633         None         333840              11636      Owned         None   \n",
      "50634        Entry         306053              43751     Rented         None   \n",
      "50635         None         385157              32684     Family  Two Wheeler   \n",
      "\n",
      "      marital_status  no_card  default  \n",
      "0            Married        0        1  \n",
      "1            Married        0        1  \n",
      "2            Married        1        1  \n",
      "3            Married        0        1  \n",
      "4            Married        1        1  \n",
      "...              ...      ...      ...  \n",
      "50631        Married        2        0  \n",
      "50632        Married        2        0  \n",
      "50633        Married        1        0  \n",
      "50634         Single        0        0  \n",
      "50635        Married        0        0  \n",
      "\n",
      "[50636 rows x 13 columns]>\n"
     ]
    }
   ],
   "source": [
    "#Importing Necessary Libraries\n",
    "import pandas as pd\n",
    "import matplotlib.pyplot as plot\n",
    "from sklearn import metrics \n",
    "from sklearn.linear_model import SGDClassifier\n",
    "from sklearn.model_selection import train_test_split\n",
    "from sklearn.metrics import accuracy_score\n",
    "from sklearn.tree import DecisionTreeClassifier\n",
    "from keras.models import Sequential\n",
    "from keras.layers import Dense\n",
    "from sklearn.metrics import accuracy_score,confusion_matrix\n",
    "from sklearn.ensemble import RandomForestClassifier\n",
    "from sklearn.naive_bayes import GaussianNB\n",
    "#For removing unnecessary warnings\n",
    "import warnings\n",
    "warnings.filterwarnings(\"ignore\")\n",
    "\n",
    "#Reading the dataset\n",
    "data = pd.read_csv('credit_data.csv')\n",
    "print(data.shape)\n",
    "print(data.describe)\n",
    "\n"
   ]
  },
  {
   "cell_type": "code",
   "execution_count": 8,
   "metadata": {},
   "outputs": [
    {
     "name": "stdout",
     "output_type": "stream",
     "text": [
      "   age  gender  education  occupation  organization_type  seniority  \\\n",
      "0   19       0          0           0                  0          0   \n",
      "1   18       0          1           0                  0          0   \n",
      "2   29       0          1           1                  0          1   \n",
      "3   18       0          0           2                  0          0   \n",
      "4   26       0          2           1                  0          2   \n",
      "\n",
      "   annual_income  disposable_income  house_type  vehicle_type  marital_status  \\\n",
      "0         186319              21625           0             0               0   \n",
      "1         277022              20442           1             0               0   \n",
      "2         348676              24404           1             0               0   \n",
      "3         165041               2533           1             0               0   \n",
      "4         348745              19321           1             0               0   \n",
      "\n",
      "   no_card  default  \n",
      "0        0        1  \n",
      "1        0        1  \n",
      "2        1        1  \n",
      "3        0        1  \n",
      "4        1        1  \n",
      "(30381, 13)\n",
      "(30381, 12)\n"
     ]
    }
   ],
   "source": [
    "#Data Preprocessing and converting object data types to integers\n",
    "def convert_obj(columns):\n",
    "    for col in columns:\n",
    "        data[col] = pd.factorize(data[col])[0]\n",
    "convert_obj(data.select_dtypes(include=['object']))\n",
    "print(data.head())\n",
    "#Splitting Dataset\n",
    "data_train , data_test = train_test_split(data,test_size=0.4,random_state=0)\n",
    "print(data_train.shape)\n",
    "x_train=data_train.drop(['default'],axis=1)\n",
    "print(x_train.shape)\n",
    "x_test=data_test.drop(['default'],axis=1)\n",
    "y_train = data_train[['default']]\n",
    "y_test = data_test[['default']]\n",
    "\n"
   ]
  },
  {
   "cell_type": "code",
   "execution_count": 9,
   "metadata": {},
   "outputs": [
    {
     "name": "stdout",
     "output_type": "stream",
     "text": [
      "Accuracy using entropy criteria 0.8620587509256974\n",
      "Confusion Matrix for Entropy\n",
      "[[16634   433]\n",
      " [ 2361   827]]\n",
      "Visualization for Confusion Matrix\n"
     ]
    },
    {
     "data": {
      "image/png": "[encoded data removed]",
      "text/plain": [
       "<Figure size 288x288 with 2 Axes>"
      ]
     },
     "metadata": {
      "needs_background": "light"
     },
     "output_type": "display_data"
    },
    {
     "name": "stdout",
     "output_type": "stream",
     "text": [
      "Accuracy using Gini criteria 0.8616144161935324\n",
      "Confusion_matrix for Gini Score\n",
      "[[16567   500]\n",
      " [ 2303   885]]\n",
      "Visualization for Confusion Matrix\n"
     ]
    },
    {
     "data": {
      "image/png": "[encoded data removed]",
      "text/plain": [
       "<Figure size 288x288 with 2 Axes>"
      ]
     },
     "metadata": {
      "needs_background": "light"
     },
     "output_type": "display_data"
    }
   ],
   "source": [
    "#Using DT Classifier for 2 diffrent criteria's\n",
    "#Using Entropy Criteria\n",
    "clf = DecisionTreeClassifier(criterion='entropy',presort=True,splitter='best',random_state=8,min_samples_leaf=150,min_samples_split=2)\n",
    "clf.fit(X=x_train,y=y_train)\n",
    "\n",
    "#Using Gini crieteria to check Gini Impurity\n",
    "clf.gini = DecisionTreeClassifier(criterion='gini',presort=True,splitter='best',random_state=208,min_samples_leaf=190,min_samples_split=25)\n",
    "clf.gini.fit(X=x_train,y=y_train)\n",
    "\n",
    "#Calculating Accuracy of both the Decision tree Models\n",
    "y_predentropy = clf.predict(x_test)\n",
    "y_predgini = clf.gini.predict(x_test)\n",
    "entropy_score = clf.score(x_test,y_test)\n",
    "gini_score = clf.gini.score(x_test,y_test)\n",
    "\n",
    "print(\"Accuracy using entropy criteria\",entropy_score)\n",
    "\n",
    "#Getting confusion matrix\n",
    "print(\"Confusion Matrix for Entropy\")\n",
    "print(confusion_matrix(y_test, y_predentropy))\n",
    "#Visualizing Confusion Matrix for Entropy method.\n",
    "lcmat=confusion_matrix(y_test, y_predentropy)\n",
    "print(\"Visualization for Confusion Matrix\")\n",
    "plot.matshow(lcmat)\n",
    "plot.colorbar()\n",
    "plot.show()\n",
    "\n",
    "print(\"Accuracy using Gini criteria\",gini_score)\n",
    "\n",
    "#Getting confusion matrix\n",
    "print(\"Confusion_matrix for Gini Score\")\n",
    "print(confusion_matrix(y_test, y_predgini)) \n",
    "#Visualizing Confusion Matrix for gini score method.\n",
    "lcmat=confusion_matrix(y_test, y_predgini)\n",
    "print(\"Visualization for Confusion Matrix\")\n",
    "plot.matshow(lcmat)\n",
    "plot.colorbar()\n",
    "plot.show()\n",
    "\n",
    "\n"
   ]
  },
  {
   "cell_type": "code",
   "execution_count": 10,
   "metadata": {},
   "outputs": [
    {
     "name": "stdout",
     "output_type": "stream",
     "text": [
      "Epoch 1/10\n",
      "30381/30381 [==============================] - 3s 83us/step - loss: 10105327450.7068 - accuracy: 0.8392\n",
      "Epoch 2/10\n",
      "30381/30381 [==============================] - 2s 81us/step - loss: 0.4408 - accuracy: 0.8409 0s - loss: 0.4421 - \n",
      "Epoch 3/10\n",
      "30381/30381 [==============================] - 2s 55us/step - loss: 0.4384 - accuracy: 0.8409\n",
      "Epoch 4/10\n",
      "30381/30381 [==============================] - 2s 53us/step - loss: 0.4382 - accuracy: 0.8409\n",
      "Epoch 5/10\n",
      "30381/30381 [==============================] - 2s 53us/step - loss: 0.4382 - accuracy: 0.8409\n",
      "Epoch 6/10\n",
      "30381/30381 [==============================] - 2s 54us/step - loss: 0.4382 - accuracy: 0.8409\n",
      "Epoch 7/10\n",
      "30381/30381 [==============================] - 2s 55us/step - loss: 0.4382 - accuracy: 0.8409\n",
      "Epoch 8/10\n",
      "30381/30381 [==============================] - 2s 55us/step - loss: 0.4382 - accuracy: 0.8409\n",
      "Epoch 9/10\n",
      "30381/30381 [==============================] - 2s 53us/step - loss: 0.4382 - accuracy: 0.8409\n",
      "Epoch 10/10\n",
      "30381/30381 [==============================] - 2s 52us/step - loss: 0.4382 - accuracy: 0.8409\n",
      "20255/20255 [==============================] - 1s 28us/step\n",
      "0.842606782913208\n"
     ]
    }
   ],
   "source": [
    "# Designing Neural Network\n",
    "from keras.models import Sequential\n",
    "from keras.layers import Dense\n",
    "# Defining the architecture of Neural Network\n",
    "model = Sequential([\n",
    "    Dense(64, activation='relu', input_shape=(12,)),\n",
    "    Dense(64, activation='relu'),\n",
    "    Dense(1, activation='sigmoid'),\n",
    "])\n",
    "#Defing Optimizing characters\n",
    "model.compile(optimizer='sgd',\n",
    "              loss='binary_crossentropy',\n",
    "              metrics=['accuracy'])\n",
    "#Training Parametrs of Neural Network\n",
    "hist = model.fit(x_train, y_train,\n",
    "          batch_size=32, epochs=10)\n",
    "\n",
    "print(model.evaluate(x_test, y_test)[1])"
   ]
  },
  {
   "cell_type": "code",
   "execution_count": 14,
   "metadata": {},
   "outputs": [
    {
     "name": "stdout",
     "output_type": "stream",
     "text": [
      "Gaussian Naive Bayes model accuracy(in %): 84.2606763762034\n",
      "Accuracy: \n",
      " 0.8549000246852629\n",
      "[[17067     0]\n",
      " [ 3188     0]]\n",
      "Visualization for Confusion Matrix\n"
     ]
    },
    {
     "data": {
      "image/png": "[encoded data removed]",
      "text/plain": [
       "<Figure size 288x288 with 2 Axes>"
      ]
     },
     "metadata": {
      "needs_background": "light"
     },
     "output_type": "display_data"
    }
   ],
   "source": [
    "#Using Naives Baiyes Classifier\n",
    "gnb = GaussianNB() \n",
    "gnb.fit(x_train, y_train) \n",
    "  \n",
    "# making predictions on the testing set \n",
    "y_pred = gnb.predict(x_test) \n",
    "  \n",
    "print(\"Gaussian Naive Bayes model accuracy(in %):\", metrics.accuracy_score(y_test, y_pred)*100)\n",
    "print('Accuracy: \\n', accuracy_score(y_test,rf_predicted))\n",
    "print(confusion_matrix(y_test,y_pred))\n",
    "lcmat=confusion_matrix(y_test,y_pred)\n",
    "print(\"Visualization for Confusion Matrix\")\n",
    "plot.matshow(lcmat)\n",
    "plot.colorbar()\n",
    "plot.show()"
   ]
  },
  {
   "cell_type": "code",
   "execution_count": 13,
   "metadata": {},
   "outputs": [
    {
     "name": "stdout",
     "output_type": "stream",
     "text": [
      "Random Forest Test Score: \n",
      " 85.49\n",
      "Accuracy: \n",
      " 0.8549000246852629\n",
      "[[16492   575]\n",
      " [ 2364   824]]\n",
      "Visualization for Confusion Matrix\n"
     ]
    },
    {
     "data": {
      "image/png": "[encoded data removed]",
      "text/plain": [
       "<Figure size 288x288 with 2 Axes>"
      ]
     },
     "metadata": {
      "needs_background": "light"
     },
     "output_type": "display_data"
    }
   ],
   "source": [
    "#Using Random Forest Classifier\n",
    "random_forest = RandomForestClassifier(n_estimators=12)\n",
    "random_forest.fit(x_train, y_train)\n",
    "#Predict Output\n",
    "rf_predicted = random_forest.predict(x_test)\n",
    "\n",
    "\n",
    "random_forest_score_test = round(random_forest.score(x_test, y_test) * 100, 2)\n",
    "print('Random Forest Test Score: \\n', random_forest_score_test)\n",
    "print('Accuracy: \\n', accuracy_score(y_test,rf_predicted))\n",
    "print(confusion_matrix(y_test,rf_predicted))\n",
    "lcmat=confusion_matrix(y_test, rf_predicted)\n",
    "print(\"Visualization for Confusion Matrix\")\n",
    "plot.matshow(lcmat)\n",
    "plot.colorbar()\n",
    "plot.show()"
   ]
  },
  {
   "cell_type": "code",
   "execution_count": null,
   "metadata": {},
   "outputs": [],
   "source": []
  }
 ],
 "metadata": {
  "kernelspec": {
   "display_name": "Python 3",
   "language": "python",
   "name": "python3"
  },
  "language_info": {
   "codemirror_mode": {
    "name": "ipython",
    "version": 3
   },
   "file_extension": ".py",
   "mimetype": "text/x-python",
   "name": "python",
   "nbconvert_exporter": "python",
   "pygments_lexer": "ipython3",
   "version": "3.7.4"
  }
 },
 "nbformat": 4,
 "nbformat_minor": 2
}
